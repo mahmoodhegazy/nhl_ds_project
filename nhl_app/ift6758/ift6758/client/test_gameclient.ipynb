{
 "cells": [
  {
   "cell_type": "code",
   "execution_count": 1,
   "metadata": {},
   "outputs": [],
   "source": [
    "import pandas as pd\n",
    "import json\n",
    "import requests\n",
    "from game_client import *"
   ]
  },
  {
   "cell_type": "code",
   "execution_count": 2,
   "metadata": {},
   "outputs": [],
   "source": [
    "game_client = GameClient()\n",
    "test_game_id = '2023020497'  # Testing with a live game\n",
    "output = game_client.ping_game(test_game_id)"
   ]
  },
  {
   "cell_type": "code",
   "execution_count": 3,
   "metadata": {},
   "outputs": [
    {
     "data": {
      "text/plain": [
       "{'df':      shot_distance_to_goal  shot_angle  team        xG\n",
       " 1                43.278170  -49.685900  home  0.043254\n",
       " 2                28.861739   14.036243  home  0.080574\n",
       " 3                51.351728   -6.709837  home  0.031248\n",
       " 5                29.529646  -61.699244  home  0.076151\n",
       " 6                71.470274  -17.927920  home  0.013060\n",
       " ..                     ...         ...   ...       ...\n",
       " 126              56.435804  -29.744881  away  0.024899\n",
       " 129              26.172505   -6.581945  away  0.089092\n",
       " 130              26.019224   -2.202598  away  0.089792\n",
       " 131              23.430749   50.194429  away  0.101550\n",
       " 134              55.901699  -47.174744  away  0.025295\n",
       " \n",
       " [135 rows x 4 columns],\n",
       " 'live': True,\n",
       " 'period': 3,\n",
       " 'timeLeft': '00:00',\n",
       " 'home_score': 1,\n",
       " 'away_score': 2,\n",
       " 'home_xG': 6.955862281323198,\n",
       " 'away_xG': 5.833672891674699}"
      ]
     },
     "execution_count": 3,
     "metadata": {},
     "output_type": "execute_result"
    }
   ],
   "source": [
    "output"
   ]
  },
  {
   "cell_type": "code",
   "execution_count": 4,
   "metadata": {},
   "outputs": [],
   "source": [
    "df = output[\"df\"]"
   ]
  },
  {
   "cell_type": "code",
   "execution_count": 5,
   "metadata": {},
   "outputs": [
    {
     "data": {
      "text/html": [
       "<div>\n",
       "<style scoped>\n",
       "    .dataframe tbody tr th:only-of-type {\n",
       "        vertical-align: middle;\n",
       "    }\n",
       "\n",
       "    .dataframe tbody tr th {\n",
       "        vertical-align: top;\n",
       "    }\n",
       "\n",
       "    .dataframe thead th {\n",
       "        text-align: right;\n",
       "    }\n",
       "</style>\n",
       "<table border=\"1\" class=\"dataframe\">\n",
       "  <thead>\n",
       "    <tr style=\"text-align: right;\">\n",
       "      <th></th>\n",
       "      <th>shot_distance_to_goal</th>\n",
       "      <th>shot_angle</th>\n",
       "      <th>team</th>\n",
       "      <th>xG</th>\n",
       "    </tr>\n",
       "  </thead>\n",
       "  <tbody>\n",
       "    <tr>\n",
       "      <th>1</th>\n",
       "      <td>43.278170</td>\n",
       "      <td>-49.685900</td>\n",
       "      <td>home</td>\n",
       "      <td>0.043254</td>\n",
       "    </tr>\n",
       "    <tr>\n",
       "      <th>2</th>\n",
       "      <td>28.861739</td>\n",
       "      <td>14.036243</td>\n",
       "      <td>home</td>\n",
       "      <td>0.080574</td>\n",
       "    </tr>\n",
       "    <tr>\n",
       "      <th>3</th>\n",
       "      <td>51.351728</td>\n",
       "      <td>-6.709837</td>\n",
       "      <td>home</td>\n",
       "      <td>0.031248</td>\n",
       "    </tr>\n",
       "    <tr>\n",
       "      <th>5</th>\n",
       "      <td>29.529646</td>\n",
       "      <td>-61.699244</td>\n",
       "      <td>home</td>\n",
       "      <td>0.076151</td>\n",
       "    </tr>\n",
       "    <tr>\n",
       "      <th>6</th>\n",
       "      <td>71.470274</td>\n",
       "      <td>-17.927920</td>\n",
       "      <td>home</td>\n",
       "      <td>0.013060</td>\n",
       "    </tr>\n",
       "    <tr>\n",
       "      <th>...</th>\n",
       "      <td>...</td>\n",
       "      <td>...</td>\n",
       "      <td>...</td>\n",
       "      <td>...</td>\n",
       "    </tr>\n",
       "    <tr>\n",
       "      <th>126</th>\n",
       "      <td>56.435804</td>\n",
       "      <td>-29.744881</td>\n",
       "      <td>away</td>\n",
       "      <td>0.024899</td>\n",
       "    </tr>\n",
       "    <tr>\n",
       "      <th>129</th>\n",
       "      <td>26.172505</td>\n",
       "      <td>-6.581945</td>\n",
       "      <td>away</td>\n",
       "      <td>0.089092</td>\n",
       "    </tr>\n",
       "    <tr>\n",
       "      <th>130</th>\n",
       "      <td>26.019224</td>\n",
       "      <td>-2.202598</td>\n",
       "      <td>away</td>\n",
       "      <td>0.089792</td>\n",
       "    </tr>\n",
       "    <tr>\n",
       "      <th>131</th>\n",
       "      <td>23.430749</td>\n",
       "      <td>50.194429</td>\n",
       "      <td>away</td>\n",
       "      <td>0.101550</td>\n",
       "    </tr>\n",
       "    <tr>\n",
       "      <th>134</th>\n",
       "      <td>55.901699</td>\n",
       "      <td>-47.174744</td>\n",
       "      <td>away</td>\n",
       "      <td>0.025295</td>\n",
       "    </tr>\n",
       "  </tbody>\n",
       "</table>\n",
       "<p>135 rows × 4 columns</p>\n",
       "</div>"
      ],
      "text/plain": [
       "     shot_distance_to_goal  shot_angle  team        xG\n",
       "1                43.278170  -49.685900  home  0.043254\n",
       "2                28.861739   14.036243  home  0.080574\n",
       "3                51.351728   -6.709837  home  0.031248\n",
       "5                29.529646  -61.699244  home  0.076151\n",
       "6                71.470274  -17.927920  home  0.013060\n",
       "..                     ...         ...   ...       ...\n",
       "126              56.435804  -29.744881  away  0.024899\n",
       "129              26.172505   -6.581945  away  0.089092\n",
       "130              26.019224   -2.202598  away  0.089792\n",
       "131              23.430749   50.194429  away  0.101550\n",
       "134              55.901699  -47.174744  away  0.025295\n",
       "\n",
       "[135 rows x 4 columns]"
      ]
     },
     "execution_count": 5,
     "metadata": {},
     "output_type": "execute_result"
    }
   ],
   "source": [
    "df"
   ]
  },
  {
   "cell_type": "code",
   "execution_count": 6,
   "metadata": {},
   "outputs": [],
   "source": [
    "# Ping again 2 minutes later (game ends)\n",
    "output_2 = game_client.ping_game(test_game_id)"
   ]
  },
  {
   "cell_type": "code",
   "execution_count": 7,
   "metadata": {},
   "outputs": [
    {
     "data": {
      "text/plain": [
       "{'df': Empty DataFrame\n",
       " Columns: []\n",
       " Index: [],\n",
       " 'live': True,\n",
       " 'period': 3,\n",
       " 'timeLeft': '00:00',\n",
       " 'home_score': 1,\n",
       " 'away_score': 2,\n",
       " 'home_xG': 6.955862281323198,\n",
       " 'away_xG': 5.833672891674699}"
      ]
     },
     "execution_count": 7,
     "metadata": {},
     "output_type": "execute_result"
    }
   ],
   "source": [
    "output_2"
   ]
  },
  {
   "cell_type": "code",
   "execution_count": null,
   "metadata": {},
   "outputs": [],
   "source": []
  }
 ],
 "metadata": {
  "kernelspec": {
   "display_name": "Python 3 (ipykernel)",
   "language": "python",
   "name": "python3"
  },
  "language_info": {
   "codemirror_mode": {
    "name": "ipython",
    "version": 3
   },
   "file_extension": ".py",
   "mimetype": "text/x-python",
   "name": "python",
   "nbconvert_exporter": "python",
   "pygments_lexer": "ipython3",
   "version": "3.11.5"
  }
 },
 "nbformat": 4,
 "nbformat_minor": 2
}
