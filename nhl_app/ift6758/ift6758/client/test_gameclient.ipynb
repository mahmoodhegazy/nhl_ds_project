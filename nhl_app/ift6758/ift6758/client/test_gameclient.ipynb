{
 "cells": [
  {
   "cell_type": "code",
   "execution_count": 1,
   "metadata": {},
   "outputs": [],
   "source": [
    "import pandas as pd\n",
    "import json\n",
    "import requests\n",
    "from game_client import *"
   ]
  },
  {
   "cell_type": "code",
   "execution_count": 2,
   "metadata": {},
   "outputs": [],
   "source": [
    "game_client = GameClient()\n",
    "test_game_id = '2022030411'  # Replace with your test game ID\n",
    "output = game_client.ping_game(test_game_id)"
   ]
  },
  {
   "cell_type": "code",
   "execution_count": 3,
   "metadata": {},
   "outputs": [
    {
     "data": {
      "text/plain": [
       "{'df':      shot_distance_to_goal  shot_angle  team        xG\n",
       " 2                12.165525   -9.462322  home  0.153303\n",
       " 3                12.806248  -38.659808  home  0.148119\n",
       " 4                55.217751  -35.417055  home  0.026175\n",
       " 8                11.180340   10.304846  home  0.160136\n",
       " 9                35.846897   30.141386  home  0.060910\n",
       " ..                     ...         ...   ...       ...\n",
       " 113               6.403124   51.340192  away  0.193175\n",
       " 115              60.033324   -1.909152  away  0.021573\n",
       " 124               7.280110  -74.054604  away  0.179335\n",
       " 127              17.029386  -40.236358  away  0.126073\n",
       " 128              80.006250   -0.716160  away  0.009068\n",
       " \n",
       " [129 rows x 4 columns],\n",
       " 'live': False,\n",
       " 'period': 3,\n",
       " 'timeLeft': '00:00',\n",
       " 'home_score': 5,\n",
       " 'away_score': 2,\n",
       " 'home_xG': 7.7705382595623265,\n",
       " 'away_xG': 5.5664922389385385}"
      ]
     },
     "execution_count": 3,
     "metadata": {},
     "output_type": "execute_result"
    }
   ],
   "source": [
    "output"
   ]
  },
  {
   "cell_type": "code",
   "execution_count": 4,
   "metadata": {},
   "outputs": [],
   "source": [
    "df = output[\"df\"]"
   ]
  },
  {
   "cell_type": "code",
   "execution_count": 5,
   "metadata": {},
   "outputs": [
    {
     "data": {
      "text/html": [
       "<div>\n",
       "<style scoped>\n",
       "    .dataframe tbody tr th:only-of-type {\n",
       "        vertical-align: middle;\n",
       "    }\n",
       "\n",
       "    .dataframe tbody tr th {\n",
       "        vertical-align: top;\n",
       "    }\n",
       "\n",
       "    .dataframe thead th {\n",
       "        text-align: right;\n",
       "    }\n",
       "</style>\n",
       "<table border=\"1\" class=\"dataframe\">\n",
       "  <thead>\n",
       "    <tr style=\"text-align: right;\">\n",
       "      <th></th>\n",
       "      <th>shot_distance_to_goal</th>\n",
       "      <th>shot_angle</th>\n",
       "      <th>team</th>\n",
       "      <th>xG</th>\n",
       "    </tr>\n",
       "  </thead>\n",
       "  <tbody>\n",
       "    <tr>\n",
       "      <th>2</th>\n",
       "      <td>12.165525</td>\n",
       "      <td>-9.462322</td>\n",
       "      <td>home</td>\n",
       "      <td>0.153303</td>\n",
       "    </tr>\n",
       "    <tr>\n",
       "      <th>3</th>\n",
       "      <td>12.806248</td>\n",
       "      <td>-38.659808</td>\n",
       "      <td>home</td>\n",
       "      <td>0.148119</td>\n",
       "    </tr>\n",
       "    <tr>\n",
       "      <th>4</th>\n",
       "      <td>55.217751</td>\n",
       "      <td>-35.417055</td>\n",
       "      <td>home</td>\n",
       "      <td>0.026175</td>\n",
       "    </tr>\n",
       "    <tr>\n",
       "      <th>8</th>\n",
       "      <td>11.180340</td>\n",
       "      <td>10.304846</td>\n",
       "      <td>home</td>\n",
       "      <td>0.160136</td>\n",
       "    </tr>\n",
       "    <tr>\n",
       "      <th>9</th>\n",
       "      <td>35.846897</td>\n",
       "      <td>30.141386</td>\n",
       "      <td>home</td>\n",
       "      <td>0.060910</td>\n",
       "    </tr>\n",
       "    <tr>\n",
       "      <th>...</th>\n",
       "      <td>...</td>\n",
       "      <td>...</td>\n",
       "      <td>...</td>\n",
       "      <td>...</td>\n",
       "    </tr>\n",
       "    <tr>\n",
       "      <th>113</th>\n",
       "      <td>6.403124</td>\n",
       "      <td>51.340192</td>\n",
       "      <td>away</td>\n",
       "      <td>0.193175</td>\n",
       "    </tr>\n",
       "    <tr>\n",
       "      <th>115</th>\n",
       "      <td>60.033324</td>\n",
       "      <td>-1.909152</td>\n",
       "      <td>away</td>\n",
       "      <td>0.021573</td>\n",
       "    </tr>\n",
       "    <tr>\n",
       "      <th>124</th>\n",
       "      <td>7.280110</td>\n",
       "      <td>-74.054604</td>\n",
       "      <td>away</td>\n",
       "      <td>0.179335</td>\n",
       "    </tr>\n",
       "    <tr>\n",
       "      <th>127</th>\n",
       "      <td>17.029386</td>\n",
       "      <td>-40.236358</td>\n",
       "      <td>away</td>\n",
       "      <td>0.126073</td>\n",
       "    </tr>\n",
       "    <tr>\n",
       "      <th>128</th>\n",
       "      <td>80.006250</td>\n",
       "      <td>-0.716160</td>\n",
       "      <td>away</td>\n",
       "      <td>0.009068</td>\n",
       "    </tr>\n",
       "  </tbody>\n",
       "</table>\n",
       "<p>129 rows × 4 columns</p>\n",
       "</div>"
      ],
      "text/plain": [
       "     shot_distance_to_goal  shot_angle  team        xG\n",
       "2                12.165525   -9.462322  home  0.153303\n",
       "3                12.806248  -38.659808  home  0.148119\n",
       "4                55.217751  -35.417055  home  0.026175\n",
       "8                11.180340   10.304846  home  0.160136\n",
       "9                35.846897   30.141386  home  0.060910\n",
       "..                     ...         ...   ...       ...\n",
       "113               6.403124   51.340192  away  0.193175\n",
       "115              60.033324   -1.909152  away  0.021573\n",
       "124               7.280110  -74.054604  away  0.179335\n",
       "127              17.029386  -40.236358  away  0.126073\n",
       "128              80.006250   -0.716160  away  0.009068\n",
       "\n",
       "[129 rows x 4 columns]"
      ]
     },
     "execution_count": 5,
     "metadata": {},
     "output_type": "execute_result"
    }
   ],
   "source": [
    "df"
   ]
  },
  {
   "cell_type": "code",
   "execution_count": 6,
   "metadata": {},
   "outputs": [],
   "source": [
    "output_2 = game_client.ping_game(test_game_id)"
   ]
  },
  {
   "cell_type": "code",
   "execution_count": 7,
   "metadata": {},
   "outputs": [
    {
     "data": {
      "text/plain": [
       "{'df': Empty DataFrame\n",
       " Columns: []\n",
       " Index: [],\n",
       " 'live': False,\n",
       " 'period': 3,\n",
       " 'timeLeft': '00:00',\n",
       " 'home_score': 5,\n",
       " 'away_score': 2,\n",
       " 'home_xG': 7.7705382595623265,\n",
       " 'away_xG': 5.5664922389385385}"
      ]
     },
     "execution_count": 7,
     "metadata": {},
     "output_type": "execute_result"
    }
   ],
   "source": [
    "output_2"
   ]
  },
  {
   "cell_type": "code",
   "execution_count": null,
   "metadata": {},
   "outputs": [],
   "source": []
  }
 ],
 "metadata": {
  "kernelspec": {
   "display_name": "Python 3 (ipykernel)",
   "language": "python",
   "name": "python3"
  },
  "language_info": {
   "codemirror_mode": {
    "name": "ipython",
    "version": 3
   },
   "file_extension": ".py",
   "mimetype": "text/x-python",
   "name": "python",
   "nbconvert_exporter": "python",
   "pygments_lexer": "ipython3",
   "version": "3.11.5"
  }
 },
 "nbformat": 4,
 "nbformat_minor": 2
}
