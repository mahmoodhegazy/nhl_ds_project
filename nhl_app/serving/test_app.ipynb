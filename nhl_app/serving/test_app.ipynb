{
 "cells": [
  {
   "cell_type": "code",
   "execution_count": 1,
   "metadata": {},
   "outputs": [],
   "source": [
    "import pandas as pd"
   ]
  },
  {
   "cell_type": "code",
   "execution_count": 10,
   "metadata": {},
   "outputs": [],
   "source": [
    "import json\n",
    "import requests"
   ]
  },
  {
   "cell_type": "code",
   "execution_count": 4,
   "metadata": {},
   "outputs": [],
   "source": [
    "# dataset = '../src/data/all_new_game_data_with_features.csv'\n",
    "df = pd.read_csv(\"../../src/data/all_new_game_data_with_features.csv\")"
   ]
  },
  {
   "cell_type": "code",
   "execution_count": 15,
   "metadata": {},
   "outputs": [],
   "source": [
    "X = df[df.gameID == df.gameID.max()][[\"shot_distance_to_goal\", \"shot_angle\"]]"
   ]
  },
  {
   "cell_type": "code",
   "execution_count": 16,
   "metadata": {},
   "outputs": [
    {
     "data": {
      "text/html": [
       "<div>\n",
       "<style scoped>\n",
       "    .dataframe tbody tr th:only-of-type {\n",
       "        vertical-align: middle;\n",
       "    }\n",
       "\n",
       "    .dataframe tbody tr th {\n",
       "        vertical-align: top;\n",
       "    }\n",
       "\n",
       "    .dataframe thead th {\n",
       "        text-align: right;\n",
       "    }\n",
       "</style>\n",
       "<table border=\"1\" class=\"dataframe\">\n",
       "  <thead>\n",
       "    <tr style=\"text-align: right;\">\n",
       "      <th></th>\n",
       "      <th>shot_distance_to_goal</th>\n",
       "      <th>shot_angle</th>\n",
       "    </tr>\n",
       "  </thead>\n",
       "  <tbody>\n",
       "    <tr>\n",
       "      <th>183003</th>\n",
       "      <td>31.064449</td>\n",
       "      <td>-56.821488</td>\n",
       "    </tr>\n",
       "    <tr>\n",
       "      <th>183004</th>\n",
       "      <td>16.000000</td>\n",
       "      <td>0.000000</td>\n",
       "    </tr>\n",
       "    <tr>\n",
       "      <th>183005</th>\n",
       "      <td>40.706265</td>\n",
       "      <td>62.175904</td>\n",
       "    </tr>\n",
       "    <tr>\n",
       "      <th>183006</th>\n",
       "      <td>34.176015</td>\n",
       "      <td>-20.556045</td>\n",
       "    </tr>\n",
       "    <tr>\n",
       "      <th>183007</th>\n",
       "      <td>27.802878</td>\n",
       "      <td>37.694240</td>\n",
       "    </tr>\n",
       "    <tr>\n",
       "      <th>...</th>\n",
       "      <td>...</td>\n",
       "      <td>...</td>\n",
       "    </tr>\n",
       "    <tr>\n",
       "      <th>183138</th>\n",
       "      <td>30.479501</td>\n",
       "      <td>41.009087</td>\n",
       "    </tr>\n",
       "    <tr>\n",
       "      <th>183139</th>\n",
       "      <td>64.404969</td>\n",
       "      <td>-36.158185</td>\n",
       "    </tr>\n",
       "    <tr>\n",
       "      <th>183140</th>\n",
       "      <td>33.970576</td>\n",
       "      <td>42.614056</td>\n",
       "    </tr>\n",
       "    <tr>\n",
       "      <th>183141</th>\n",
       "      <td>57.140179</td>\n",
       "      <td>32.855722</td>\n",
       "    </tr>\n",
       "    <tr>\n",
       "      <th>183142</th>\n",
       "      <td>5.385165</td>\n",
       "      <td>-68.198591</td>\n",
       "    </tr>\n",
       "  </tbody>\n",
       "</table>\n",
       "<p>140 rows × 2 columns</p>\n",
       "</div>"
      ],
      "text/plain": [
       "        shot_distance_to_goal  shot_angle\n",
       "183003              31.064449  -56.821488\n",
       "183004              16.000000    0.000000\n",
       "183005              40.706265   62.175904\n",
       "183006              34.176015  -20.556045\n",
       "183007              27.802878   37.694240\n",
       "...                       ...         ...\n",
       "183138              30.479501   41.009087\n",
       "183139              64.404969  -36.158185\n",
       "183140              33.970576   42.614056\n",
       "183141              57.140179   32.855722\n",
       "183142               5.385165  -68.198591\n",
       "\n",
       "[140 rows x 2 columns]"
      ]
     },
     "execution_count": 16,
     "metadata": {},
     "output_type": "execute_result"
    }
   ],
   "source": [
    "X"
   ]
  },
  {
   "cell_type": "code",
   "execution_count": 23,
   "metadata": {},
   "outputs": [],
   "source": [
    "json_object = json.dumps({\"model\":\"log\"}, indent = 4) "
   ]
  },
  {
   "cell_type": "code",
   "execution_count": 24,
   "metadata": {},
   "outputs": [],
   "source": [
    "r = requests.post(\n",
    "\"http://0.0.0.0:8080/download_registry_model\",\n",
    "json=json.loads(json_object)\n",
    ")"
   ]
  },
  {
   "cell_type": "code",
   "execution_count": 30,
   "metadata": {},
   "outputs": [],
   "source": [
    "r = requests.post(\n",
    "\"http://0.0.0.0:8080/predict\",\n",
    "json=json.loads(X.iloc[0].to_json())\n",
    ")"
   ]
  },
  {
   "cell_type": "code",
   "execution_count": 31,
   "metadata": {},
   "outputs": [
    {
     "data": {
      "text/plain": [
       "<Response [200]>"
      ]
     },
     "execution_count": 31,
     "metadata": {},
     "output_type": "execute_result"
    }
   ],
   "source": [
    "r"
   ]
  },
  {
   "cell_type": "code",
   "execution_count": 32,
   "metadata": {},
   "outputs": [],
   "source": [
    "r = requests.post(\n",
    "\"http://0.0.0.0:8080/predict\",\n",
    "json=json.loads(X.to_json())\n",
    ")"
   ]
  },
  {
   "cell_type": "code",
   "execution_count": 33,
   "metadata": {},
   "outputs": [
    {
     "data": {
      "text/plain": [
       "<Response [500]>"
      ]
     },
     "execution_count": 33,
     "metadata": {},
     "output_type": "execute_result"
    }
   ],
   "source": [
    "r"
   ]
  },
  {
   "cell_type": "code",
   "execution_count": null,
   "metadata": {},
   "outputs": [],
   "source": []
  }
 ],
 "metadata": {
  "kernelspec": {
   "display_name": "Python 3 (ipykernel)",
   "language": "python",
   "name": "python3"
  },
  "language_info": {
   "codemirror_mode": {
    "name": "ipython",
    "version": 3
   },
   "file_extension": ".py",
   "mimetype": "text/x-python",
   "name": "python",
   "nbconvert_exporter": "python",
   "pygments_lexer": "ipython3",
   "version": "3.11.5"
  }
 },
 "nbformat": 4,
 "nbformat_minor": 2
}
