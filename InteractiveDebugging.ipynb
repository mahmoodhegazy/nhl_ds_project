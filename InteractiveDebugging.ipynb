{
 "cells": [
  {
   "cell_type": "code",
   "execution_count": 1,
   "metadata": {},
   "outputs": [],
   "source": [
    "import ipywidgets as widgets\n",
    "import matplotlib.pyplot as plt\n",
    "import matplotlib.image as mpimg\n",
    "from IPython.display import display, clear_output\n",
    "import json\n",
    "import os\n",
    "import pandas as pd\n",
    "import numpy as np\n",
    "import pprint"
   ]
  },
  {
   "cell_type": "code",
   "execution_count": 2,
   "metadata": {},
   "outputs": [],
   "source": [
    "game_type = widgets.Dropdown(\n",
    "    options = ['Regular', 'Play_off'],\n",
    "    description = 'Type of the game :',\n",
    "    disabled = False\n",
    ")\n",
    "def handle_game_type(change):\n",
    "    new_value = change.new\n",
    "\n",
    "\n",
    "year_of_the_game = widgets.Dropdown(\n",
    "    options = [2016, 2017, 2018, 2019, 2020],\n",
    "    description = 'year of the game',\n",
    "    disabled = False\n",
    ")\n",
    "def handle_year_of_the_game(change):\n",
    "    new_value = change.new\n",
    "\n",
    "game_id = widgets.IntSlider(\n",
    "    min= 1,\n",
    "    max = 1271,\n",
    "    description='game number',\n",
    "    disabled=False\n",
    ")\n",
    "def handle_game_id(change):\n",
    "    new_value = change.new\n",
    "\n",
    "event = widgets.IntSlider(\n",
    "    min= 1,\n",
    "    max = 100,\n",
    "    description='events',\n",
    "    disabled=False,\n",
    ")\n",
    "def handle_event(change):\n",
    "    new_value = change.new"
   ]
  },
  {
   "cell_type": "code",
   "execution_count": 3,
   "metadata": {},
   "outputs": [],
   "source": [
    "inters = widgets.VBox([widgets.HBox([game_type, year_of_the_game]),widgets.HBox([game_id, event])])"
   ]
  },
  {
   "cell_type": "code",
   "execution_count": 4,
   "metadata": {},
   "outputs": [],
   "source": [
    "game_type.observe(handle_game_type)\n",
    "year_of_the_game.observe(handle_year_of_the_game)  \n",
    "game_id.observe(handle_game_id)\n",
    "event.observe(handle_event)"
   ]
  },
  {
   "cell_type": "code",
   "execution_count": 5,
   "metadata": {},
   "outputs": [],
   "source": [
    "def mainFunction(game_type, year_of_the_game, game_id, event):\n",
    "    serial_number = 20000 if game_type == 'Regular' else 30000\n",
    "    json_file = f'{year_of_the_game}0{int(serial_number) + int(game_id)}'\n",
    "    gtype = 'R' if game_type == 'Regular' else 'P'\n",
    "    try:\n",
    "        with open(f'data/{year_of_the_game}/{gtype}/{json_file}.json') as f:\n",
    "            game_info = json.load(f)\n",
    "        f.close()\n",
    "\n",
    "\n",
    "        home_team = game_info['gameData'][\"teams\"][\"home\"][\"abbreviation\"]\n",
    "        away_team = game_info['gameData'][\"teams\"][\"away\"][\"abbreviation\"]\n",
    "        home_team_goal = game_info['liveData'][\"linescore\"][\"teams\"][\"home\"][\"goals\"]\n",
    "        away_team_goal = game_info['liveData'][\"linescore\"][\"teams\"][\"away\"][\"goals\"]\n",
    "        home_team_goal_shots_on_goal = game_info['liveData'][\"linescore\"][\"teams\"][\"home\"][\"shotsOnGoal\"]\n",
    "        away_team_goal_shots_on_goal = game_info['liveData'][\"linescore\"][\"teams\"][\"away\"][\"shotsOnGoal\"]\n",
    "        home_team_so = game_info['liveData'][\"linescore\"][\"shootoutInfo\"][\"home\"][\"scores\"]\n",
    "        away_team_so = game_info['liveData'][\"linescore\"][\"shootoutInfo\"][\"away\"][\"scores\"]\n",
    "        home_team_attempts = game_info['liveData'][\"linescore\"][\"shootoutInfo\"][\"home\"][\"attempts\"]\n",
    "        away_team_attempts = game_info['liveData'][\"linescore\"][\"shootoutInfo\"][\"away\"][\"attempts\"]\n",
    "        event_time = game_info['liveData']['plays']['allPlays'][event][\"about\"][\"periodTime\"]\n",
    "        event_des = game_info['liveData']['plays']['allPlays'][event][\"result\"][\"description\"]\n",
    "        period_time = game_info['liveData']['plays']['allPlays'][event][\"about\"][\"periodTime\"]    \n",
    "        period = game_info['liveData']['plays']['allPlays'][event][\"about\"][\"period\"]\n",
    "\n",
    "\n",
    "        print(f\"game_id : {game_info['gamePk']}\")\n",
    "        print(f\"total games : {len(os.listdir(f'data/{year_of_the_game}/{gtype}'))}\")\n",
    "        print(f\"total events : {len(game_info['liveData']['plays']['allPlays'])}\")\n",
    "        print(f\"date time {game_info['gameData']['datetime']['dateTime']}\")\n",
    "\n",
    "        home_data = pd.DataFrame({'Home':[home_team, home_team_goal, home_team_goal_shots_on_goal, home_team_so, home_team_attempts],\n",
    "                                'Away':[away_team, away_team_goal, away_team_goal_shots_on_goal, away_team_so, away_team_attempts]\n",
    "                                }, index= ['Teams:','Goals:','Shots on goal:','SO:','Attempts'])\n",
    "\n",
    "        print(home_data)\n",
    "\n",
    "\n",
    "        fig = plt.figure(figsize=(8, 4))\n",
    "        img = mpimg.imread('imgs/nhl_rink.png')\n",
    "        fig, ax = plt.subplots()\n",
    "        ax.imshow(img,extent=[-100, 100, -42.5, 42.5])\n",
    "        plt.xlim((-100, 100))\n",
    "        plt.ylim((-42.5, 42.5))\n",
    "        my_y_ticks = np.arange(-42.5, 42.5, 21.25)\n",
    "        plt.yticks(my_y_ticks)\n",
    "        plt.xlabel('feet')\n",
    "        plt.ylabel('feet')\n",
    "\n",
    "\n",
    "        if period % 2 == 1:\n",
    "            plt.title(str(event) + '\\n' + str(period_time) + '  P-' + str(period) + '\\n'+ str(away_team) + 'VS ' + str(home_team))\n",
    "        else:\n",
    "            plt.title(str(event) + '\\n' + str(period_time) + '  P-' + str(period) + '\\n'+ str(home_team) + 'VS ' + str(away_team))\n",
    "\n",
    "        cors = game_info['liveData']['plays']['allPlays'][event]['coordinates']\n",
    "\n",
    "\n",
    "\n",
    "        try:\n",
    "            x, y = cors['x'], cors['y']\n",
    "            plt.plot(x, y, 'bo')\n",
    "            plt.annotate(' <'+str(x)+', '+str(y)+'>', xy=(x, y))\n",
    "        except:\n",
    "            plt.text(-23, 45, \"No ball included !\", c='r')\n",
    "\n",
    "        plt.show()\n",
    "        pprint.pprint(game_info['liveData']['plays']['allPlays'][event]['result'])\n",
    "    except:\n",
    "        print(\"No Data available !\")"
   ]
  },
  {
   "cell_type": "code",
   "execution_count": 6,
   "metadata": {},
   "outputs": [
    {
     "data": {
      "application/vnd.jupyter.widget-view+json": {
       "model_id": "043f4476e5204fd29035b283872c9611",
       "version_major": 2,
       "version_minor": 0
      },
      "text/plain": [
       "VBox(children=(HBox(children=(Dropdown(description='Type of the game :', options=('Regular', 'Play_off'), valu…"
      ]
     },
     "metadata": {},
     "output_type": "display_data"
    },
    {
     "data": {
      "application/vnd.jupyter.widget-view+json": {
       "model_id": "8a3561abff88480ab4fc581d18cfbe43",
       "version_major": 2,
       "version_minor": 0
      },
      "text/plain": [
       "Output()"
      ]
     },
     "metadata": {},
     "output_type": "display_data"
    }
   ],
   "source": [
    "final = widgets.interactive_output(mainFunction, {'year_of_the_game': year_of_the_game, 'game_type': game_type, 'game_id' : game_id, 'event' : event})\n",
    "display(inters, final)"
   ]
  },
  {
   "cell_type": "code",
   "execution_count": null,
   "metadata": {},
   "outputs": [],
   "source": []
  }
 ],
 "metadata": {
  "kernelspec": {
   "display_name": "Python 3",
   "language": "python",
   "name": "python3"
  },
  "language_info": {
   "codemirror_mode": {
    "name": "ipython",
    "version": 3
   },
   "file_extension": ".py",
   "mimetype": "text/x-python",
   "name": "python",
   "nbconvert_exporter": "python",
   "pygments_lexer": "ipython3",
   "version": "3.11.3"
  },
  "orig_nbformat": 4
 },
 "nbformat": 4,
 "nbformat_minor": 2
}
